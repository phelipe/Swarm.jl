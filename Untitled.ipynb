{
 "cells": [
  {
   "cell_type": "code",
   "execution_count": 77,
   "metadata": {},
   "outputs": [
    {
     "name": "stderr",
     "output_type": "stream",
     "text": [
      "invalid redefinition of constant Particles"
     ]
    },
    {
     "name": "stdout",
     "output_type": "stream",
     "text": [
      "\n",
      "mutable struct Particles{T <: AbstractFloat, J <: Integer}\n",
      "    #= /home/phelipe/Documentos/julia/Swarm/src/particles.jl:3 =#\n",
      "    x::Vector{Vector{T}}\n",
      "    #= /home/phelipe/Documentos/julia/Swarm/src/particles.jl:4 =#\n",
      "    v::Vector{Vector{T}}\n",
      "    #= /…src/particles.jl:35 =#\n",
      "        new{typeof(rand()), typeof(swarmsize)}(x, v, p, g, lb, ub, swarmsize, S, fill(Inf, swarmsize), fill(Inf, swarmsize), fill(Inf, swarmsize), fill(Inf, swarmsize), collect(1:swarmsize), [Inf for i = 1:S], Inf)\n",
      "    end\n",
      "end\n",
      "\n"
     ]
    }
   ],
   "source": [
    "using BenchmarkTools\n",
    "using Revise\n",
    "using Pkg\n",
    "Pkg.activate(\".\")\n",
    "using Swarm"
   ]
  },
  {
   "cell_type": "code",
   "execution_count": 78,
   "metadata": {},
   "outputs": [],
   "source": [
    "particles = Particles(5, zeros(3), ones(3).*5);"
   ]
  },
  {
   "cell_type": "code",
   "execution_count": 79,
   "metadata": {},
   "outputs": [
    {
     "data": {
      "text/plain": [
       "5-element Array{Array{Int64,1},1}:\n",
       " [1, 1, 1]\n",
       " [2, 2, 2]\n",
       " [3, 3, 3]\n",
       " [4, 4, 4]\n",
       " [5, 5, 5]"
      ]
     },
     "execution_count": 79,
     "metadata": {},
     "output_type": "execute_result"
    }
   ],
   "source": [
    "particles.x = [fill(a,3) for a in 1:5]"
   ]
  },
  {
   "cell_type": "code",
   "execution_count": 80,
   "metadata": {},
   "outputs": [
    {
     "data": {
      "text/plain": [
       "5-element Array{Float64,1}:\n",
       " 0.5                \n",
       " 0.4                \n",
       " 0.30000000000000004\n",
       " 0.2                \n",
       " 0.1                "
      ]
     },
     "execution_count": 80,
     "metadata": {},
     "output_type": "execute_result"
    }
   ],
   "source": [
    "particles.fx = [ a*0.1 for a in 5:-1:1]"
   ]
  },
  {
   "cell_type": "code",
   "execution_count": 81,
   "metadata": {},
   "outputs": [
    {
     "data": {
      "text/plain": [
       "5-element Array{Array{Float64,1},1}:\n",
       " [1.0, 1.0, 1.0]\n",
       " [2.0, 2.0, 2.0]\n",
       " [3.0, 3.0, 3.0]\n",
       " [4.0, 4.0, 4.0]\n",
       " [5.0, 5.0, 5.0]"
      ]
     },
     "execution_count": 81,
     "metadata": {},
     "output_type": "execute_result"
    }
   ],
   "source": [
    "particles.p = copy(particles.x)"
   ]
  },
  {
   "cell_type": "code",
   "execution_count": 82,
   "metadata": {},
   "outputs": [
    {
     "data": {
      "text/plain": [
       "5-element Array{Float64,1}:\n",
       " 0.05                \n",
       " 0.04000000000000001 \n",
       " 0.030000000000000006\n",
       " 0.020000000000000004\n",
       " 0.010000000000000002"
      ]
     },
     "execution_count": 82,
     "metadata": {},
     "output_type": "execute_result"
    }
   ],
   "source": [
    "particles.fp = copy(particles.fx) .* 0.1"
   ]
  },
  {
   "cell_type": "code",
   "execution_count": 83,
   "metadata": {},
   "outputs": [
    {
     "data": {
      "text/plain": [
       "5-element Array{Array{Float64,1},1}:\n",
       " [1.0, 1.0, 1.0]\n",
       " [2.0, 2.0, 2.0]\n",
       " [3.0, 3.0, 3.0]\n",
       " [4.0, 4.0, 4.0]\n",
       " [5.0, 5.0, 5.0]"
      ]
     },
     "execution_count": 83,
     "metadata": {},
     "output_type": "execute_result"
    }
   ],
   "source": [
    "particles.g = copy(particles.x)"
   ]
  },
  {
   "cell_type": "code",
   "execution_count": 84,
   "metadata": {},
   "outputs": [
    {
     "data": {
      "text/plain": [
       "5-element Array{Float64,1}:\n",
       " 0.5                \n",
       " 0.4                \n",
       " 0.30000000000000004\n",
       " 0.2                \n",
       " 0.1                "
      ]
     },
     "execution_count": 84,
     "metadata": {},
     "output_type": "execute_result"
    }
   ],
   "source": [
    "particles.fg = copy(particles.fx)"
   ]
  },
  {
   "cell_type": "code",
   "execution_count": 85,
   "metadata": {},
   "outputs": [],
   "source": [
    "verify(x, size) = (abs(x) % size == 0) ? size : mod(x,size);"
   ]
  },
  {
   "cell_type": "code",
   "execution_count": 86,
   "metadata": {},
   "outputs": [],
   "source": [
    "#esta é a função para encontra o melhor local\n",
    "function findBestLocal(particle, n::Integer) \n",
    "    sortperm!(particle.order, particle.fx, rev=true)\n",
    "    for i in particle.order\n",
    "        temp = verify.((i-n):(i+n), particle.swarmsize)\n",
    "        val, ind = findmin(particle.fp[particle.order[temp]])\n",
    "        particle.fg[i] = val\n",
    "        particle.g[i] = particle.p[particle.order[temp]][ind]\n",
    "    end    \n",
    "end;\n",
    "\n",
    "function findBestGlobal(particle)\n",
    "    val, ind = findmin(particle.fp)\n",
    "    particle.fg = fill(val, particle.swarmsize)\n",
    "    particle.g = fill(particle.p[ind], particle.swarmsize)\n",
    "end;    "
   ]
  },
  {
   "cell_type": "code",
   "execution_count": 87,
   "metadata": {},
   "outputs": [
    {
     "data": {
      "text/plain": [
       "BenchmarkTools.Trial: \n",
       "  memory estimate:  256 bytes\n",
       "  allocs estimate:  2\n",
       "  --------------\n",
       "  minimum time:     110.015 ns (0.00% GC)\n",
       "  median time:      125.172 ns (0.00% GC)\n",
       "  mean time:        153.795 ns (14.71% GC)\n",
       "  maximum time:     66.498 μs (99.73% GC)\n",
       "  --------------\n",
       "  samples:          10000\n",
       "  evals/sample:     934"
      ]
     },
     "execution_count": 87,
     "metadata": {},
     "output_type": "execute_result"
    }
   ],
   "source": [
    "#@benchmark findBestLocal(particles, 1)\n",
    "@benchmark findBestGlobal(particles)"
   ]
  },
  {
   "cell_type": "code",
   "execution_count": 88,
   "metadata": {},
   "outputs": [
    {
     "data": {
      "text/plain": [
       "5-element Array{Float64,1}:\n",
       " 0.010000000000000002\n",
       " 0.010000000000000002\n",
       " 0.010000000000000002\n",
       " 0.010000000000000002\n",
       " 0.010000000000000002"
      ]
     },
     "execution_count": 88,
     "metadata": {},
     "output_type": "execute_result"
    }
   ],
   "source": [
    "particles.fg"
   ]
  },
  {
   "cell_type": "code",
   "execution_count": 89,
   "metadata": {},
   "outputs": [
    {
     "data": {
      "text/plain": [
       "5-element Array{Array{Float64,1},1}:\n",
       " [5.0, 5.0, 5.0]\n",
       " [5.0, 5.0, 5.0]\n",
       " [5.0, 5.0, 5.0]\n",
       " [5.0, 5.0, 5.0]\n",
       " [5.0, 5.0, 5.0]"
      ]
     },
     "execution_count": 89,
     "metadata": {},
     "output_type": "execute_result"
    }
   ],
   "source": [
    "particles.g"
   ]
  },
  {
   "cell_type": "code",
   "execution_count": null,
   "metadata": {},
   "outputs": [],
   "source": []
  },
  {
   "cell_type": "code",
   "execution_count": null,
   "metadata": {},
   "outputs": [],
   "source": []
  },
  {
   "cell_type": "code",
   "execution_count": null,
   "metadata": {},
   "outputs": [],
   "source": []
  },
  {
   "cell_type": "code",
   "execution_count": null,
   "metadata": {},
   "outputs": [],
   "source": []
  }
 ],
 "metadata": {
  "kernelspec": {
   "display_name": "Julia 1.0.3",
   "language": "julia",
   "name": "julia-1.0"
  },
  "language_info": {
   "file_extension": ".jl",
   "mimetype": "application/julia",
   "name": "julia",
   "version": "1.0.3"
  }
 },
 "nbformat": 4,
 "nbformat_minor": 2
}
